{
 "cells": [
  {
   "cell_type": "code",
   "execution_count": 1,
   "metadata": {
    "collapsed": true
   },
   "outputs": [],
   "source": [
    "import pandas as pd\n",
    "import numpy as np\n",
    "from sklearn.linear_model import LinearRegression\n"
   ]
  },
  {
   "cell_type": "code",
   "execution_count": 24,
   "metadata": {
    "collapsed": true
   },
   "outputs": [],
   "source": [
    "data = pd.read_excel('/Users/Mahmud/Desktop/test.xls')"
   ]
  },
  {
   "cell_type": "code",
   "execution_count": 38,
   "metadata": {},
   "outputs": [],
   "source": [
    "X=data[['mpg']]\n",
    "y=data['price']"
   ]
  },
  {
   "cell_type": "code",
   "execution_count": 39,
   "metadata": {
    "collapsed": true
   },
   "outputs": [],
   "source": [
    "logit=LinearRegression()"
   ]
  },
  {
   "cell_type": "code",
   "execution_count": 40,
   "metadata": {},
   "outputs": [
    {
     "data": {
      "text/plain": [
       "LinearRegression(copy_X=True, fit_intercept=True, n_jobs=1, normalize=False)"
      ]
     },
     "execution_count": 40,
     "metadata": {},
     "output_type": "execute_result"
    }
   ],
   "source": [
    "logit.fit(X,y)"
   ]
  },
  {
   "cell_type": "code",
   "execution_count": 41,
   "metadata": {},
   "outputs": [
    {
     "data": {
      "text/plain": [
       "(array([-238.89434563]), 11253.060658348819)"
      ]
     },
     "execution_count": 41,
     "metadata": {},
     "output_type": "execute_result"
    }
   ],
   "source": [
    "logit.coef_, logit.intercept_"
   ]
  },
  {
   "cell_type": "code",
   "execution_count": 42,
   "metadata": {
    "collapsed": true
   },
   "outputs": [],
   "source": [
    "def t_stat(model, X, y, feature_name):\n",
    "    \n",
    "    # computing sigma squared\n",
    "    data['y_pred'] = model.predict(X)\n",
    "    sigma_sq = np.sum((y - data['y_pred'])**2) / (len(data[feature_name]) - 2)\n",
    "    \n",
    "    # computign SST_x\n",
    "    data['diff'] = data[feature_name] - np.mean(data[feature_name])\n",
    "    data['diff'] = data['diff'] ** 2\n",
    "    sst_x = np.sum(data['diff'])\n",
    "    \n",
    "    # computing the denominator\n",
    "    R_sq = round(model.score(X, y),2)\n",
    "    denom = sst_x * (1-R_sq)\n",
    "    \n",
    "    # computing t-stat\n",
    "    st_dev = np.sqrt(sigma_sq / denom)\n",
    "    coef = model.coef_[0]\n",
    "    t_stat = coef/st_dev\n",
    "    \n",
    "    return {'Variance of residuals': sigma_sq, 'Variance in the '+feature_name: sst_x, 'Standard Error approx.':st_dev, 'Coefficient of '+feature_name: coef, 't-stat': t_stat}\n"
   ]
  },
  {
   "cell_type": "code",
   "execution_count": 43,
   "metadata": {},
   "outputs": [
    {
     "data": {
      "text/plain": [
       "{'Coefficient of mpg': -238.8943456331298,\n",
       " 'Standard Error approx.': 60.097513921273489,\n",
       " 'Variance in the mpg': 2443.4594594594596,\n",
       " 'Variance of residuals': 6883554.480213771,\n",
       " 't-stat': -3.9751119479929984}"
      ]
     },
     "execution_count": 43,
     "metadata": {},
     "output_type": "execute_result"
    }
   ],
   "source": [
    "t_stat(logit, X, y, feature_name='mpg')"
   ]
  },
  {
   "cell_type": "code",
   "execution_count": null,
   "metadata": {
    "collapsed": true
   },
   "outputs": [],
   "source": []
  }
 ],
 "metadata": {
  "kernelspec": {
   "display_name": "Python 3",
   "language": "python",
   "name": "python3"
  },
  "language_info": {
   "codemirror_mode": {
    "name": "ipython",
    "version": 3
   },
   "file_extension": ".py",
   "mimetype": "text/x-python",
   "name": "python",
   "nbconvert_exporter": "python",
   "pygments_lexer": "ipython3",
   "version": "3.6.3"
  }
 },
 "nbformat": 4,
 "nbformat_minor": 2
}
