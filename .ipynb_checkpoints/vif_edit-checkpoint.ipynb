{
 "cells": [
  {
   "cell_type": "code",
   "execution_count": 19,
   "metadata": {
    "collapsed": true
   },
   "outputs": [],
   "source": [
    "from sklearn.linear_model import LinearRegression\n",
    "import pandas as pd\n",
    "\n",
    "def vif(model, X, target_name):\n",
    "    \"\"\"Return VIF score of a variable.\n",
    "    \n",
    "    Function returns VIF score of a specified variable by using the auxiliarry regression method approach to \n",
    "    Multiple Linear Regression. It is built using the Scikit Learn Linear Regression class.\n",
    "    \n",
    "    Parameters\n",
    "    ----------    \n",
    "    model: class instance of Scikit Learn LinearRegression\n",
    "    X: dataframe of feature variables\n",
    "    target_name: variable for which VIF score will be calculated for as a string\n",
    "    \n",
    "    Returns\n",
    "    -------\n",
    "    float\n",
    "        Value for VIF score of the target_name feature\n",
    "    \"\"\"\n",
    "    columns_without_j = list(X.columns)\n",
    "    columns_without_j.remove(target_name)\n",
    "    model.fit(X[columns_without_j], X[target_name])\n",
    "    R_sq = model.score(X[columns_without_j], X[target_name])\n",
    "    \n",
    "    columns_without_j.append(target_name)\n",
    "    return 1/(1-R_sq)"
   ]
  },
  {
   "cell_type": "code",
   "execution_count": null,
   "metadata": {
    "collapsed": true
   },
   "outputs": [],
   "source": []
  }
 ],
 "metadata": {
  "kernelspec": {
   "display_name": "Python 3",
   "language": "python",
   "name": "python3"
  },
  "language_info": {
   "codemirror_mode": {
    "name": "ipython",
    "version": 3
   },
   "file_extension": ".py",
   "mimetype": "text/x-python",
   "name": "python",
   "nbconvert_exporter": "python",
   "pygments_lexer": "ipython3",
   "version": "3.6.3"
  }
 },
 "nbformat": 4,
 "nbformat_minor": 2
}
